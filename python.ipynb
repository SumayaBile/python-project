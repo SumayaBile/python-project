{
 "cells": [
  {
   "cell_type": "code",
   "execution_count": 144,
   "id": "656c0d8d-7ec8-4a9a-ada4-775cacc56dd7",
   "metadata": {},
   "outputs": [
    {
     "name": "stdout",
     "output_type": "stream",
     "text": [
      "Average cat weight: 4.71 kg\n"
     ]
    }
   ],
   "source": [
    "import json\n",
    "import numpy as np\n",
    "from collections import Counter\n",
    "\n",
    "\n",
    "# Define the file path (update this based on your actual file location)\n",
    "file_path = r\"E:\\data analyst\\New folder\\cats.json\"\n",
    "\n",
    "# Open and read the JSON file\n",
    "with open(file_path, \"r\", encoding=\"utf-8\") as file:\n",
    "    data = json.load(file)  # Load JSON content into a Python list\n",
    "\n",
    "# Extract weights as a NumPy array\n",
    "weights = np.array([cat[\"weight\"] for cat in data])\n",
    "\n",
    "#Calculate the average weight\n",
    "average_weight = np.mean(weights)\n",
    "\n",
    "# Print the result\n",
    "print(f\"Average cat weight: {average_weight:.2f} kg\")\n"
   ]
  },
  {
   "cell_type": "code",
   "execution_count": 145,
   "id": "19fd7050-b2a8-4104-b99c-47934ed6c603",
   "metadata": {},
   "outputs": [
    {
     "name": "stdout",
     "output_type": "stream",
     "text": [
      "13.746268656716419\n"
     ]
    }
   ],
   "source": [
    "# Extract weights as a NumPy array\n",
    "\n",
    "life_span = np.array([i [\"life_span\"] for i in data])\n",
    "\n",
    "#Calculate the average weight\n",
    "average_life_span  = np.mean(life_span)\n",
    "\n",
    "# Print the result\n",
    "print(average_life_span)\n"
   ]
  },
  {
   "cell_type": "code",
   "execution_count": 146,
   "id": "c1a8632a-368d-466c-b767-6a3438646dda",
   "metadata": {},
   "outputs": [
    {
     "name": "stdout",
     "output_type": "stream",
     "text": [
      "Australia:1\n",
      "Burma:2\n",
      "Canada:3\n",
      "China:1\n",
      "Cyprus:1\n",
      "Egypt:3\n",
      "France:2\n",
      "Greece:1\n",
      "Iran (Persia):1\n",
      "Isle of Man:1\n",
      "Japan:1\n",
      "Norway:1\n",
      "Russia:4\n",
      "Singapore:1\n",
      "Somalia:1\n",
      "Thailand:4\n",
      "Turkey:2\n",
      "United Arab Emirates:1\n",
      "United Kingdom:8\n",
      "United States:28\n"
     ]
    }
   ],
   "source": [
    "countries=np.array([j[\"country\"] for j in data])\n",
    "\n",
    "unique_contries,count=np.unique(countries,return_counts=True)\n",
    "\n",
    "frequency_table=dict(zip (unique_contries,count))\n",
    "for a,b in frequency_table.items():\n",
    " print (f\"{a}:{b}\")\n",
    "\n",
    "\n",
    "\n",
    "                "
   ]
  },
  {
   "cell_type": "code",
   "execution_count": 153,
   "id": "bcb2a335-6972-4f60-89a8-4e337c1f351b",
   "metadata": {},
   "outputs": [
    {
     "ename": "ModuleNotFoundError",
     "evalue": "No module named 'wordcloud'",
     "output_type": "error",
     "traceback": [
      "\u001b[1;31m---------------------------------------------------------------------------\u001b[0m",
      "\u001b[1;31mModuleNotFoundError\u001b[0m                       Traceback (most recent call last)",
      "Cell \u001b[1;32mIn[153], line 1\u001b[0m\n\u001b[1;32m----> 1\u001b[0m \u001b[38;5;28;01mfrom\u001b[39;00m \u001b[38;5;21;01mwordcloud\u001b[39;00m \u001b[38;5;28;01mimport\u001b[39;00m WordCloud\n\u001b[0;32m      2\u001b[0m \u001b[38;5;28;01mimport\u001b[39;00m \u001b[38;5;21;01mmatplotlib\u001b[39;00m\u001b[38;5;21;01m.\u001b[39;00m\u001b[38;5;21;01mpyplot\u001b[39;00m \u001b[38;5;28;01mas\u001b[39;00m \u001b[38;5;21;01mplt\u001b[39;00m\n\u001b[0;32m      4\u001b[0m \u001b[38;5;66;03m# Example descriptions of cats (you can replace this with actual data)\u001b[39;00m\n",
      "\u001b[1;31mModuleNotFoundError\u001b[0m: No module named 'wordcloud'"
     ]
    }
   ],
   "source": [
    "from wordcloud import WordCloud\n",
    "import matplotlib.pyplot as plt\n",
    "\n",
    "# Example descriptions of cats (you can replace this with actual data)\n",
    "cat_descriptions = \"\"\"\n",
    "The Maine Coon is a large breed of domestic cat known for its friendly personality.\n",
    "The Persian cat is known for its long, luxurious fur and sweet, gentle temperament.\n",
    "The Siamese cat is known for its striking blue eyes and sleek, short coat.\n",
    "The Bengal cat is an exotic breed with a wild look, featuring a spotted or marbled coat.\n",
    "The Sphynx cat is unique for its lack of fur and its social, affectionate nature.\n",
    "The British Shorthair is known for its round face, dense coat, and calm demeanor.\n",
    "The Abyssinian cat is active, playful, and has a sleek, short coat.\n",
    "The Scottish Fold is famous for its unique ears that fold forward.\n",
    "The Russian Blue is known for its silvery-blue coat and reserved nature.\n",
    "The Burmese cat has a short, glossy coat and is affectionate and playful.\n",
    "\"\"\"\n",
    "\n",
    "# Create a WordCloud object\n",
    "wordcloud = WordCloud(width=800, height=400, background_color='white').generate(cat_descriptions)\n",
    "\n",
    "# Display the word cloud using matplotlib\n",
    "plt.figure(figsize=(10, 5))\n",
    "plt.imshow(wordcloud, interpolation='bilinear')\n",
    "plt.axis('off')  # Hide axes\n",
    "plt.show()\n"
   ]
  },
  {
   "cell_type": "code",
   "execution_count": 151,
   "id": "83459055-f0cb-49c6-b39d-54ca96c52f3c",
   "metadata": {},
   "outputs": [
    {
     "name": "stdout",
     "output_type": "stream",
     "text": [
      "Note: you may need to restart the kernel to use updated packages.\n"
     ]
    },
    {
     "name": "stderr",
     "output_type": "stream",
     "text": [
      "WARNING: Package(s) not found: wordcloud\n"
     ]
    }
   ],
   "source": [
    "pip show wordcloud"
   ]
  },
  {
   "cell_type": "code",
   "execution_count": null,
   "id": "081d9c20-e8fa-4362-890e-5881e2d12aab",
   "metadata": {},
   "outputs": [],
   "source": []
  }
 ],
 "metadata": {
  "kernelspec": {
   "display_name": "Python [conda env:base] *",
   "language": "python",
   "name": "conda-base-py"
  },
  "language_info": {
   "codemirror_mode": {
    "name": "ipython",
    "version": 3
   },
   "file_extension": ".py",
   "mimetype": "text/x-python",
   "name": "python",
   "nbconvert_exporter": "python",
   "pygments_lexer": "ipython3",
   "version": "3.12.7"
  }
 },
 "nbformat": 4,
 "nbformat_minor": 5
}
